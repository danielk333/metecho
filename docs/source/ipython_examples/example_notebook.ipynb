{
 "cells": [
  {
   "cell_type": "markdown",
   "id": "aaea08a7",
   "metadata": {},
   "source": [
    "# Example notebook tutorial usage\n",
    "\n",
    "This is an example of how to use notebooks to create tutorials using the package"
   ]
  },
  {
   "cell_type": "code",
   "execution_count": null,
   "id": "30fedcef",
   "metadata": {},
   "outputs": [],
   "source": [
    "import metecho"
   ]
  },
  {
   "cell_type": "markdown",
   "id": "750fd222",
   "metadata": {},
   "source": [
    "## Subsections\n",
    "\n",
    "With information about what part is coming now\n",
    "\n",
    "$\\sum\\limits_{i=0}^N \\alpha_i \\Psi(t, \\mathbf{k})$"
   ]
  },
  {
   "cell_type": "code",
   "execution_count": null,
   "id": "374513cb",
   "metadata": {},
   "outputs": [],
   "source": [
    "metecho.profiler.init('notebook', enabled=True)"
   ]
  },
  {
   "cell_type": "code",
   "execution_count": null,
   "id": "b66ca02a",
   "metadata": {},
   "outputs": [],
   "source": [
    "for ind in range(100):\n",
    "    metecho.profiler.start('notebook')\n",
    "    x = [y**2 for y in range(1000)]\n",
    "    metecho.profiler.stop('notebook')"
   ]
  },
  {
   "cell_type": "markdown",
   "id": "428d9285",
   "metadata": {},
   "source": [
    "Now we can describe the next part, printing the results"
   ]
  },
  {
   "cell_type": "code",
   "execution_count": null,
   "id": "13e16537",
   "metadata": {},
   "outputs": [],
   "source": [
    "print(metecho.profiler)"
   ]
  },
  {
   "cell_type": "code",
   "execution_count": null,
   "id": "1bdd3a89",
   "metadata": {},
   "outputs": [],
   "source": []
  }
 ],
 "metadata": {
  "kernelspec": {
   "display_name": "Python 3 (ipykernel)",
   "language": "python",
   "name": "python3"
  },
  "language_info": {
   "codemirror_mode": {
    "name": "ipython",
    "version": 3
   },
   "file_extension": ".py",
   "mimetype": "text/x-python",
   "name": "python",
   "nbconvert_exporter": "python",
   "pygments_lexer": "ipython3",
   "version": "3.10.2"
  }
 },
 "nbformat": 4,
 "nbformat_minor": 5
}
